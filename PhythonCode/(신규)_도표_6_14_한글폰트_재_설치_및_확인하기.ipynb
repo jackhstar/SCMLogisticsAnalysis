{
  "nbformat": 4,
  "nbformat_minor": 0,
  "metadata": {
    "colab": {
      "provenance": []
    },
    "kernelspec": {
      "name": "python3",
      "display_name": "Python 3"
    },
    "language_info": {
      "name": "python"
    }
  },
  "cells": [
    {
      "cell_type": "markdown",
      "source": [
        "# 도표 6-14 한글폰트 설치, 그래프 그리기(2025년)"
      ],
      "metadata": {
        "id": "OFigLRF_zlym"
      }
    },
    {
      "cell_type": "code",
      "execution_count": null,
      "metadata": {
        "id": "JriCnpqdzk4u"
      },
      "outputs": [],
      "source": [
        "# 📌 1. 한글 폰트(NanumGothic) 설치 (Colab 전용)\n",
        "!apt-get update -qq\n",
        "!apt-get install -qq -y fonts-nanum\n",
        "\n",
        "# 📌 2. 시스템 폰트 캐시 업데이트 (폰트 인식 문제 해결)\n",
        "!fc-cache -fv\n",
        "!rm -rf ~/.cache/matplotlib\n",
        "\n",
        "# 📌 3. 필요한 라이브러리 임포트\n",
        "import matplotlib.pyplot as plt\n",
        "import matplotlib.font_manager as fm\n",
        "\n",
        "# 📌 4. 한글 폰트 경로 확인\n",
        "font_path = \"/usr/share/fonts/truetype/nanum/NanumGothic.ttf\"\n",
        "\n",
        "# 📌 5. 전역 폰트 설정 (Matplotlib에서 기본 폰트로 사용)\n",
        "fontprop = fm.FontProperties(fname=font_path, size=12)  # 폰트 속성 정의\n",
        "plt.rc('font', family=fontprop.get_name())  # 전체 그래프에서 한글 적용\n",
        "\n",
        "# 📌 6. 마이너스 기호 깨짐 방지 설정\n",
        "plt.rcParams['axes.unicode_minus'] = False\n",
        "\n",
        "# 📌 7. 한글 테스트 그래프 출력 (제대로 표시되는지 확인)\n",
        "plt.figure(figsize=(6, 4))\n",
        "plt.plot([1, 2, 3, 4], [10, 20, 30, 40], label=\"테스트 그래프\")\n",
        "plt.title(\"한글 폰트 테스트\")\n",
        "plt.xlabel(\"X축\")\n",
        "plt.ylabel(\"Y축\")\n",
        "plt.legend()\n",
        "plt.grid()\n",
        "plt.show()\n",
        "\n",
        "# 📌 8. 현재 Matplotlib이 선택한 폰트 확인 (디버깅)\n",
        "print(\"✅ 현재 설정된 폰트:\", plt.rcParams['font.family'])\n",
        "print(\"✅ 적용된 폰트 경로:\", font_path)"
      ]
    }
  ]
}